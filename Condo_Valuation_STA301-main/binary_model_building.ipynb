{
 "cells": [
  {
   "cell_type": "code",
   "execution_count": 1,
   "metadata": {},
   "outputs": [],
   "source": [
    "import pandas as pd\n",
    "from sklearn.model_selection import train_test_split\n",
    "import numpy as np\n",
    "import statsmodels.api as sm\n",
    "import matplotlib.pyplot as plt\n",
    "import seaborn as sns"
   ]
  },
  {
   "cell_type": "markdown",
   "metadata": {},
   "source": [
    "# Binary Logistic Regression"
   ]
  },
  {
   "cell_type": "code",
   "execution_count": 2,
   "metadata": {},
   "outputs": [],
   "source": [
    "train_data_condo = pd.read_csv('data/train_data_condo.csv')\n",
    "test_data_condo = pd.read_csv('data/test_data_condo.csv')\n",
    "\n",
    "target = 'Has Elevator'"
   ]
  },
  {
   "cell_type": "code",
   "execution_count": 3,
   "metadata": {},
   "outputs": [
    {
     "data": {
      "text/plain": [
       "Has Elevator\n",
       "0    6363\n",
       "1    1637\n",
       "Name: count, dtype: int64"
      ]
     },
     "execution_count": 3,
     "metadata": {},
     "output_type": "execute_result"
    }
   ],
   "source": [
    "train_data_condo['Has Elevator'].value_counts()"
   ]
  },
  {
   "cell_type": "code",
   "execution_count": 4,
   "metadata": {},
   "outputs": [
    {
     "data": {
      "text/plain": [
       "Borough                     int64\n",
       "Total Units                 int64\n",
       "Age                       float64\n",
       "Has Elevator                int64\n",
       "Gross SqFt                float64\n",
       "Estimated Gross Income    float64\n",
       "Estimated Expense         float64\n",
       "Net Operating Income      float64\n",
       "Full Market Value         float64\n",
       "dtype: object"
      ]
     },
     "execution_count": 4,
     "metadata": {},
     "output_type": "execute_result"
    }
   ],
   "source": [
    "test_data_condo.dtypes"
   ]
  },
  {
   "cell_type": "code",
   "execution_count": 5,
   "metadata": {},
   "outputs": [],
   "source": [
    "X_train = train_data_condo.loc[:, train_data_condo.columns != target]\n",
    "y_train = train_data_condo[target]"
   ]
  },
  {
   "cell_type": "code",
   "execution_count": 6,
   "metadata": {},
   "outputs": [],
   "source": [
    "X_test = test_data_condo.loc[:, test_data_condo.columns != target]\n",
    "y_test = test_data_condo[target]"
   ]
  },
  {
   "cell_type": "code",
   "execution_count": 7,
   "metadata": {},
   "outputs": [],
   "source": [
    "X_train_const = sm.add_constant(X_train)\n",
    "X_test_const = sm.add_constant(X_test)"
   ]
  },
  {
   "cell_type": "code",
   "execution_count": 8,
   "metadata": {},
   "outputs": [
    {
     "name": "stdout",
     "output_type": "stream",
     "text": [
      "Optimization terminated successfully.\n",
      "         Current function value: 0.400276\n",
      "         Iterations 8\n",
      "                           Logit Regression Results                           \n",
      "==============================================================================\n",
      "Dep. Variable:           Has Elevator   No. Observations:                 8000\n",
      "Model:                          Logit   Df Residuals:                     7991\n",
      "Method:                           MLE   Df Model:                            8\n",
      "Date:                Fri, 17 May 2024   Pseudo R-squ.:                  0.2101\n",
      "Time:                        01:14:49   Log-Likelihood:                -3202.2\n",
      "converged:                       True   LL-Null:                       -4054.0\n",
      "Covariance Type:            nonrobust   LLR p-value:                     0.000\n",
      "==========================================================================================\n",
      "                             coef    std err          z      P>|z|      [0.025      0.975]\n",
      "------------------------------------------------------------------------------------------\n",
      "const                     -1.6890      0.136    -12.387      0.000      -1.956      -1.422\n",
      "Borough                    0.4548      0.037     12.395      0.000       0.383       0.527\n",
      "Total Units               -0.0136      0.004     -3.713      0.000      -0.021      -0.006\n",
      "Age                        0.0152      0.001     16.902      0.000       0.013       0.017\n",
      "Gross SqFt              1.211e-05   5.41e-06      2.237      0.025     1.5e-06    2.27e-05\n",
      "Estimated Gross Income    -0.2074      0.126     -1.651      0.099      -0.454       0.039\n",
      "Estimated Expense          0.2074      0.126      1.651      0.099      -0.039       0.454\n",
      "Net Operating Income       0.2074      0.126      1.651      0.099      -0.039       0.454\n",
      "Full Market Value       2.684e-07   1.52e-07      1.768      0.077   -2.92e-08    5.66e-07\n",
      "==========================================================================================\n"
     ]
    }
   ],
   "source": [
    "model = sm.Logit(y_train, X_train_const)\n",
    "result = model.fit()\n",
    "\n",
    "summary = result.summary()\n",
    "print(summary)"
   ]
  },
  {
   "cell_type": "code",
   "execution_count": 9,
   "metadata": {},
   "outputs": [
    {
     "name": "stdout",
     "output_type": "stream",
     "text": [
      "Optimization terminated successfully.\n",
      "         Current function value: 0.401162\n",
      "         Iterations 8\n",
      "                           Logit Regression Results                           \n",
      "==============================================================================\n",
      "Dep. Variable:           Has Elevator   No. Observations:                 8000\n",
      "Model:                          Logit   Df Residuals:                     7992\n",
      "Method:                           MLE   Df Model:                            7\n",
      "Date:                Fri, 17 May 2024   Pseudo R-squ.:                  0.2084\n",
      "Time:                        01:14:49   Log-Likelihood:                -3209.3\n",
      "converged:                       True   LL-Null:                       -4054.0\n",
      "Covariance Type:            nonrobust   LLR p-value:                     0.000\n",
      "==========================================================================================\n",
      "                             coef    std err          z      P>|z|      [0.025      0.975]\n",
      "------------------------------------------------------------------------------------------\n",
      "const                     -1.6311      0.134    -12.127      0.000      -1.895      -1.367\n",
      "Borough                    0.4297      0.036     12.039      0.000       0.360       0.500\n",
      "Age                        0.0147      0.001     16.603      0.000       0.013       0.016\n",
      "Gross SqFt              9.524e-07   4.56e-06      0.209      0.835   -7.98e-06    9.89e-06\n",
      "Estimated Gross Income    -0.2033      0.126     -1.618      0.106      -0.450       0.043\n",
      "Estimated Expense          0.2033      0.126      1.618      0.106      -0.043       0.450\n",
      "Net Operating Income       0.2033      0.126      1.618      0.106      -0.043       0.450\n",
      "Full Market Value       2.668e-07   1.54e-07      1.728      0.084   -3.58e-08     5.7e-07\n",
      "==========================================================================================\n"
     ]
    }
   ],
   "source": [
    "X_train_const_1 = X_train_const.drop(['Total Units'],axis=1)\n",
    "model_1 = sm.Logit(y_train, X_train_const_1)\n",
    "result_1 = model_1.fit()\n",
    "\n",
    "summary_1 = result_1.summary()\n",
    "print(summary_1)"
   ]
  },
  {
   "cell_type": "code",
   "execution_count": 10,
   "metadata": {},
   "outputs": [
    {
     "name": "stdout",
     "output_type": "stream",
     "text": [
      "Optimization terminated successfully.\n",
      "         Current function value: 0.401333\n",
      "         Iterations 8\n",
      "                           Logit Regression Results                           \n",
      "==============================================================================\n",
      "Dep. Variable:           Has Elevator   No. Observations:                 8000\n",
      "Model:                          Logit   Df Residuals:                     7993\n",
      "Method:                           MLE   Df Model:                            6\n",
      "Date:                Fri, 17 May 2024   Pseudo R-squ.:                  0.2080\n",
      "Time:                        01:14:49   Log-Likelihood:                -3210.7\n",
      "converged:                       True   LL-Null:                       -4054.0\n",
      "Covariance Type:            nonrobust   LLR p-value:                     0.000\n",
      "==========================================================================================\n",
      "                             coef    std err          z      P>|z|      [0.025      0.975]\n",
      "------------------------------------------------------------------------------------------\n",
      "const                     -1.6457      0.135    -12.235      0.000      -1.909      -1.382\n",
      "Borough                    0.4357      0.036     12.236      0.000       0.366       0.506\n",
      "Age                        0.0146      0.001     16.540      0.000       0.013       0.016\n",
      "Gross SqFt             -3.283e-06    3.9e-06     -0.842      0.400   -1.09e-05    4.36e-06\n",
      "Estimated Gross Income    -0.2044      0.126     -1.624      0.104      -0.451       0.042\n",
      "Estimated Expense          0.2044      0.126      1.624      0.104      -0.042       0.451\n",
      "Net Operating Income       0.2044      0.126      1.624      0.104      -0.042       0.451\n",
      "==========================================================================================\n"
     ]
    }
   ],
   "source": [
    "X_train_const_2 = X_train_const_1.drop(['Full Market Value'],axis=1)\n",
    "model_2 = sm.Logit(y_train, X_train_const_2)\n",
    "result_2 = model_2.fit()\n",
    "\n",
    "summary_2 = result_2.summary()\n",
    "print(summary_2)"
   ]
  },
  {
   "cell_type": "code",
   "execution_count": 11,
   "metadata": {},
   "outputs": [
    {
     "name": "stdout",
     "output_type": "stream",
     "text": [
      "Optimization terminated successfully.\n",
      "         Current function value: 0.401498\n",
      "         Iterations 8\n",
      "                           Logit Regression Results                           \n",
      "==============================================================================\n",
      "Dep. Variable:           Has Elevator   No. Observations:                 8000\n",
      "Model:                          Logit   Df Residuals:                     7994\n",
      "Method:                           MLE   Df Model:                            5\n",
      "Date:                Fri, 17 May 2024   Pseudo R-squ.:                  0.2077\n",
      "Time:                        01:14:49   Log-Likelihood:                -3212.0\n",
      "converged:                       True   LL-Null:                       -4054.0\n",
      "Covariance Type:            nonrobust   LLR p-value:                     0.000\n",
      "==========================================================================================\n",
      "                             coef    std err          z      P>|z|      [0.025      0.975]\n",
      "------------------------------------------------------------------------------------------\n",
      "const                     -1.6459      0.134    -12.237      0.000      -1.909      -1.382\n",
      "Borough                    0.4361      0.036     12.247      0.000       0.366       0.506\n",
      "Age                        0.0147      0.001     16.577      0.000       0.013       0.016\n",
      "Gross SqFt             -3.421e-06    3.9e-06     -0.877      0.381   -1.11e-05    4.23e-06\n",
      "Estimated Gross Income -3.164e-06    2.3e-07    -13.779      0.000   -3.61e-06   -2.71e-06\n",
      "Estimated Expense       3.072e-06   5.77e-07      5.324      0.000    1.94e-06     4.2e-06\n",
      "==========================================================================================\n"
     ]
    }
   ],
   "source": [
    "X_train_const_3 = X_train_const_2.drop(['Net Operating Income'],axis=1)\n",
    "model_3 = sm.Logit(y_train, X_train_const_3)\n",
    "result_3 = model_3.fit()\n",
    "\n",
    "summary_3 = result_3.summary()\n",
    "print(summary_3)"
   ]
  },
  {
   "cell_type": "code",
   "execution_count": 12,
   "metadata": {},
   "outputs": [
    {
     "name": "stdout",
     "output_type": "stream",
     "text": [
      "Optimization terminated successfully.\n",
      "         Current function value: 0.401546\n",
      "         Iterations 8\n",
      "                           Logit Regression Results                           \n",
      "==============================================================================\n",
      "Dep. Variable:           Has Elevator   No. Observations:                 8000\n",
      "Model:                          Logit   Df Residuals:                     7995\n",
      "Method:                           MLE   Df Model:                            4\n",
      "Date:                Fri, 17 May 2024   Pseudo R-squ.:                  0.2076\n",
      "Time:                        01:14:49   Log-Likelihood:                -3212.4\n",
      "converged:                       True   LL-Null:                       -4054.0\n",
      "Covariance Type:            nonrobust   LLR p-value:                     0.000\n",
      "==========================================================================================\n",
      "                             coef    std err          z      P>|z|      [0.025      0.975]\n",
      "------------------------------------------------------------------------------------------\n",
      "const                     -1.6211      0.131    -12.353      0.000      -1.878      -1.364\n",
      "Borough                    0.4265      0.034     12.608      0.000       0.360       0.493\n",
      "Age                        0.0146      0.001     16.570      0.000       0.013       0.016\n",
      "Estimated Gross Income  -3.21e-06   2.24e-07    -14.344      0.000   -3.65e-06   -2.77e-06\n",
      "Estimated Expense       2.835e-06    5.1e-07      5.556      0.000    1.84e-06    3.84e-06\n",
      "==========================================================================================\n"
     ]
    }
   ],
   "source": [
    "X_train_const_4 = X_train_const_3.drop(['Gross SqFt'],axis=1)\n",
    "model_4 = sm.Logit(y_train, X_train_const_4)\n",
    "result_4 = model_4.fit()\n",
    "\n",
    "summary_4 = result_4.summary()\n",
    "print(summary_4)"
   ]
  },
  {
   "cell_type": "code",
   "execution_count": 13,
   "metadata": {},
   "outputs": [],
   "source": [
    "X_test_const = X_test_const.drop(columns=['Gross SqFt', 'Net Operating Income','Total Units','Full Market Value'],axis=1)"
   ]
  },
  {
   "cell_type": "code",
   "execution_count": 14,
   "metadata": {},
   "outputs": [],
   "source": [
    "y_pred = result_4.predict(X_test_const)\n",
    "y_pred_binary = [1 if y > 0.5 else 0 for y in y_pred]"
   ]
  },
  {
   "cell_type": "code",
   "execution_count": 15,
   "metadata": {},
   "outputs": [
    {
     "name": "stdout",
     "output_type": "stream",
     "text": [
      "[[1529   40]\n",
      " [ 306  125]]\n",
      "Misclassification Rate: 0.17300000000000004\n",
      "              precision    recall  f1-score   support\n",
      "\n",
      "           0       0.83      0.97      0.90      1569\n",
      "           1       0.76      0.29      0.42       431\n",
      "\n",
      "    accuracy                           0.83      2000\n",
      "   macro avg       0.80      0.63      0.66      2000\n",
      "weighted avg       0.82      0.83      0.80      2000\n",
      "\n"
     ]
    }
   ],
   "source": [
    "from sklearn.metrics import confusion_matrix, classification_report\n",
    "\n",
    "cm = confusion_matrix(y_test, y_pred_binary)\n",
    "print(cm)\n",
    "\n",
    "misclassification_rate = 1 - (cm[0, 0] + cm[1, 1]) / np.sum(cm)\n",
    "print(\"Misclassification Rate:\", misclassification_rate)\n",
    "\n",
    "print(classification_report(y_test, y_pred_binary))"
   ]
  },
  {
   "cell_type": "code",
   "execution_count": 16,
   "metadata": {},
   "outputs": [
    {
     "data": {
      "image/png": "[encoded data removed]",
      "text/plain": [
       "<Figure size 800x600 with 2 Axes>"
      ]
     },
     "metadata": {},
     "output_type": "display_data"
    }
   ],
   "source": [
    "plt.figure(figsize=(8, 6))\n",
    "sns.heatmap(cm, annot=True, fmt='d', cmap='Blues', xticklabels=['No Elevator', 'Elevator'], yticklabels=['No Elevator', 'Elevator'])\n",
    "plt.xlabel('Predicted')\n",
    "plt.ylabel('Actual')\n",
    "plt.title('Confusion Matrix')\n",
    "plt.show()"
   ]
  }
 ],
 "metadata": {
  "kernelspec": {
   "display_name": "Python 3",
   "language": "python",
   "name": "python3"
  },
  "language_info": {
   "codemirror_mode": {
    "name": "ipython",
    "version": 3
   },
   "file_extension": ".py",
   "mimetype": "text/x-python",
   "name": "python",
   "nbconvert_exporter": "python",
   "pygments_lexer": "ipython3",
   "version": "3.11.3"
  }
 },
 "nbformat": 4,
 "nbformat_minor": 2
}
